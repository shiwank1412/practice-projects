{
 "cells": [
  {
   "cell_type": "code",
   "execution_count": 1,
   "id": "f4621f8f",
   "metadata": {},
   "outputs": [],
   "source": [
    "import pandas as pd\n",
    "import numpy as np\n",
    "import matplotlib.pyplot as plt\n",
    "import seaborn as sns\n",
    "%matplotlib inline"
   ]
  },
  {
   "cell_type": "code",
   "execution_count": null,
   "id": "e3a5c5b1",
   "metadata": {},
   "outputs": [],
   "source": [
    "stud= pd.read_csv('student-mat.csv')  "
   ]
  },
  {
   "cell_type": "code",
   "execution_count": null,
   "id": "29f28df8",
   "metadata": {},
   "outputs": [],
   "source": [
    "print('Total number of students:',len(stud))"
   ]
  },
  {
   "cell_type": "code",
   "execution_count": null,
   "id": "5f556279",
   "metadata": {},
   "outputs": [],
   "source": [
    "stud['G3'].describe()"
   ]
  },
  {
   "cell_type": "code",
   "execution_count": null,
   "id": "9af561d8",
   "metadata": {},
   "outputs": [],
   "source": [
    "stud.info()"
   ]
  },
  {
   "cell_type": "code",
   "execution_count": null,
   "id": "9d78a15d",
   "metadata": {},
   "outputs": [],
   "source": [
    "stud.columns"
   ]
  },
  {
   "cell_type": "code",
   "execution_count": null,
   "id": "b65ce1d9",
   "metadata": {},
   "outputs": [],
   "source": [
    "stud.describe()  "
   ]
  },
  {
   "cell_type": "code",
   "execution_count": null,
   "id": "558fb584",
   "metadata": {},
   "outputs": [],
   "source": [
    "stud.head()"
   ]
  },
  {
   "cell_type": "code",
   "execution_count": null,
   "id": "960654c6",
   "metadata": {},
   "outputs": [],
   "source": [
    "stud.tail()"
   ]
  },
  {
   "cell_type": "code",
   "execution_count": null,
   "id": "b92d0f5c",
   "metadata": {},
   "outputs": [],
   "source": [
    "stud.isnull().any() "
   ]
  },
  {
   "cell_type": "code",
   "execution_count": null,
   "id": "86bc7423",
   "metadata": {},
   "outputs": [],
   "source": [
    "import cufflinks as cf\n",
    "cf.go_offline()"
   ]
  },
  {
   "cell_type": "code",
   "execution_count": null,
   "id": "6d3dc576",
   "metadata": {},
   "outputs": [],
   "source": [
    "stud.iplot()"
   ]
  },
  {
   "cell_type": "code",
   "execution_count": null,
   "id": "06d2405d",
   "metadata": {},
   "outputs": [],
   "source": [
    "stud.iplot(kind='scatter',x='age',y='G3',mode='markers',size=8)  "
   ]
  },
  {
   "cell_type": "code",
   "execution_count": null,
   "id": "c630447e",
   "metadata": {},
   "outputs": [],
   "source": [
    "stud.iplot(kind='box')"
   ]
  },
  {
   "cell_type": "code",
   "execution_count": null,
   "id": "7bd79d82",
   "metadata": {},
   "outputs": [],
   "source": [
    "stud['G3'].iplot(kind='hist',bins=100,color='blue')"
   ]
  },
  {
   "cell_type": "code",
   "execution_count": null,
   "id": "f8e8ab2e",
   "metadata": {},
   "outputs": [],
   "source": [
    "sns.heatmap(stud.isnull(),cmap=\"rainbow\",yticklabels=False)  "
   ]
  },
  {
   "cell_type": "code",
   "execution_count": null,
   "id": "7a61b855",
   "metadata": {},
   "outputs": [],
   "source": [
    "sns.heatmap(stud.isnull(),cmap=\"viridis\",yticklabels=False)"
   ]
  },
  {
   "cell_type": "code",
   "execution_count": null,
   "id": "079f658b",
   "metadata": {},
   "outputs": [],
   "source": [
    "f_stud = len(stud[stud['sex'] == 'F'])    # Number of female students\n",
    "print('Number of female students:',f_stud)\n",
    "m_stud = len(stud[stud['sex'] == 'M'])    # Number of male students\n",
    "print('Number of male students:',m_stud)"
   ]
  },
  {
   "cell_type": "code",
   "execution_count": null,
   "id": "b1a46493",
   "metadata": {},
   "outputs": [],
   "source": [
    "sns.set_style('whitegrid')    # male & female student representaion on countplot\n",
    "sns.countplot(x='sex',data=stud,palette='plasma')"
   ]
  },
  {
   "cell_type": "code",
   "execution_count": null,
   "id": "79eecbbb",
   "metadata": {},
   "outputs": [],
   "source": [
    "b = sns.kdeplot(stud['age'])    # Kernel Density Estimations\n",
    "b.axes.set_title('Ages of students')\n",
    "b.set_xlabel('Age')\n",
    "b.set_ylabel('Count')\n",
    "plt.show()"
   ]
  },
  {
   "cell_type": "code",
   "execution_count": null,
   "id": "3831e58b",
   "metadata": {},
   "outputs": [],
   "source": [
    "b = sns.countplot(x='age',hue='sex', data=stud, palette='inferno')\n",
    "b.axes.set_title('Number of Male & Female students in different age groups')\n",
    "b.set_xlabel(\"Age\")\n",
    "b.set_ylabel(\"Count\")\n",
    "plt.show()"
   ]
  },
  {
   "cell_type": "code",
   "execution_count": null,
   "id": "cced3918",
   "metadata": {},
   "outputs": [],
   "source": [
    "u_stud = len(stud[stud['address'] == 'U'])    # Number of urban areas students\n",
    "print('Number of Urban students:',u_stud)\n",
    "r_stud = len(stud[stud['address'] == 'R'])    # Number of rural areas students\n",
    "print('Number of Rural students:',r_stud)"
   ]
  },
  {
   "cell_type": "code",
   "execution_count": null,
   "id": "33ea2137",
   "metadata": {},
   "outputs": [],
   "source": [
    "sns.set_style('whitegrid')\n",
    "sns.countplot(x='address',data=stud,palette='magma') "
   ]
  },
  {
   "cell_type": "code",
   "execution_count": null,
   "id": "db76f0e0",
   "metadata": {},
   "outputs": [],
   "source": []
  },
  {
   "cell_type": "code",
   "execution_count": null,
   "id": "c3b480fc",
   "metadata": {},
   "outputs": [],
   "source": []
  }
 ],
 "metadata": {
  "kernelspec": {
   "display_name": "Python 3 (ipykernel)",
   "language": "python",
   "name": "python3"
  },
  "language_info": {
   "codemirror_mode": {
    "name": "ipython",
    "version": 3
   },
   "file_extension": ".py",
   "mimetype": "text/x-python",
   "name": "python",
   "nbconvert_exporter": "python",
   "pygments_lexer": "ipython3",
   "version": "3.10.9"
  }
 },
 "nbformat": 4,
 "nbformat_minor": 5
}
