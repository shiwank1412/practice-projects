{
 "cells": [
  {
   "cell_type": "code",
   "execution_count": 4,
   "id": "db0623a1",
   "metadata": {},
   "outputs": [],
   "source": [
    "import numpy as np\n",
    "import pandas as pd\n",
    "import matplotlib.pyplot as plt\n",
    "import seaborn as sns\n",
    "import plotly.express as px\n",
    "import warnings\n",
    "warnings.filterwarnings(\"ignore\")"
   ]
  },
  {
   "cell_type": "markdown",
   "id": "d7a3e49d",
   "metadata": {},
   "source": [
    "World Happiness Report Dataset"
   ]
  },
  {
   "cell_type": "code",
   "execution_count": null,
   "id": "91fe6d0a",
   "metadata": {},
   "outputs": [],
   "source": [
    "whr_df = pd.read_csv(\"whr2023.csv\")\n",
    "whr_df.head()"
   ]
  },
  {
   "cell_type": "markdown",
   "id": "8c0d5abb",
   "metadata": {},
   "source": [
    "Filter the columns and copy only the ones that will be used for analysis."
   ]
  },
  {
   "cell_type": "code",
   "execution_count": null,
   "id": "a8f31812",
   "metadata": {},
   "outputs": [],
   "source": [
    "columns = ['Country name', 'iso alpha', 'Regional indicator', 'Happiness score', 'Logged GDP per capita', 'Social support', 'Healthy life expectancy', 'Freedom to make life choices', 'Generosity', 'Perceptions of corruption']\n",
    "happy_df = whr_df[columns].copy()\n",
    "happy_df.head()"
   ]
  },
  {
   "cell_type": "markdown",
   "id": "8e70422b",
   "metadata": {},
   "source": [
    "Convert all column names to lowercase"
   ]
  },
  {
   "cell_type": "code",
   "execution_count": null,
   "id": "0a907201",
   "metadata": {},
   "outputs": [],
   "source": [
    "happy_df.columns = happy_df.columns.str.lower()\n",
    "happy_df.head()"
   ]
  },
  {
   "cell_type": "markdown",
   "id": "fc22de95",
   "metadata": {},
   "source": [
    "Data Info"
   ]
  },
  {
   "cell_type": "code",
   "execution_count": null,
   "id": "0533e6eb",
   "metadata": {},
   "outputs": [],
   "source": [
    "happy_df.info()"
   ]
  },
  {
   "cell_type": "code",
   "execution_count": null,
   "id": "48c78d65",
   "metadata": {},
   "outputs": [],
   "source": [
    "# Check if there are any missing values\n",
    "happy_df.isnull().sum()"
   ]
  },
  {
   "cell_type": "code",
   "execution_count": null,
   "id": "6628ae69",
   "metadata": {},
   "outputs": [],
   "source": [
    "happy_df[happy_df.isnull().any(axis = 1)]"
   ]
  },
  {
   "cell_type": "code",
   "execution_count": null,
   "id": "3ce45418",
   "metadata": {},
   "outputs": [],
   "source": [
    "# Choose the numerical columns for further analysis\n",
    "numerical_columns = ['happiness score', 'logged gdp per capita', 'social support', 'healthy life expectancy', 'freedom to make life choices', 'generosity', 'perceptions of corruption']\n",
    "happy_df[numerical_columns].describe()"
   ]
  },
  {
   "cell_type": "markdown",
   "id": "49433458",
   "metadata": {},
   "source": [
    "The distribution of numerical data using both histograms and boxplots."
   ]
  },
  {
   "cell_type": "code",
   "execution_count": null,
   "id": "91e42b0d",
   "metadata": {},
   "outputs": [],
   "source": [
    "# Create a function that displays the distribution of numerical data using both histograms and boxplots.\n",
    "def show_distribution(var):\n",
    "    var_min = happy_df[var].min()\n",
    "    var_mean = happy_df[var].mean()\n",
    "    var_median = happy_df[var].median()\n",
    "    var_mode = happy_df[var].mode()[0]\n",
    "    var_max = happy_df[var].max()\n",
    "    \n",
    "    # Histogram \n",
    "    fig, ax = plt.subplots(2, 1, figsize = (8,8))\n",
    "    sns.histplot(happy_df, x = var, kde = True, color = 'red', alpha = 0.2, ax = ax[0])\n",
    "    ax[0].set_ylabel(\"Frequency\")\n",
    "    \n",
    "    ax[0].axvline(x = var_min, color = 'gray', linewidth = 2, linestyle = \"--\")\n",
    "    ax[0].axvline(x = var_mean, color = 'blue', linewidth = 2, linestyle = \"--\")\n",
    "    ax[0].axvline(x = var_median, color = 'brown', linewidth = 2, linestyle = \"--\")\n",
    "    ax[0].axvline(x = var_mode, color = 'cyan', linewidth = 2, linestyle = \"--\")\n",
    "    ax[0].axvline(x = var_max, color = 'gray', linewidth = 2, linestyle = \"--\")\n",
    "    \n",
    "    # Box plot\n",
    "    sns.boxplot(happy_df, x = var, width = 0.3, ax = ax[1],)\n",
    "    ax[1].set_xlabel(\"Value\")\n",
    "    \n",
    "    fig.suptitle(\"Data Distribution - \" + var, size = 15)\n",
    "    fig.show()"
   ]
  },
  {
   "cell_type": "code",
   "execution_count": null,
   "id": "acea6ee9",
   "metadata": {},
   "outputs": [],
   "source": [
    "# Call show_distribution function\n",
    "for column in numerical_columns:\n",
    "    show_distribution(column)"
   ]
  },
  {
   "cell_type": "code",
   "execution_count": null,
   "id": "e0192622",
   "metadata": {},
   "outputs": [],
   "source": [
    "# Generate a heatmap to identify the correlation\n",
    "corr = happy_df.corr()\n",
    "fig = plt.figure(figsize = (12,8))\n",
    "sns.heatmap(corr, cmap = 'Blues', linewidth = 0.5, annot = True)"
   ]
  },
  {
   "cell_type": "code",
   "execution_count": null,
   "id": "c0909ee3",
   "metadata": {},
   "outputs": [],
   "source": [
    "#Happiness score vs other factors\n",
    "tab_20_colors = [\"#1f77b4\", \"#2ca02c\", \"#9467bd\", \"#e377c2\", \"#bcbd22\", \"#9edae5\"]\n",
    "fig, ax = plt.subplots(3, 2, figsize = (12,12))\n",
    "i = 0\n",
    "for j, column in enumerate(numerical_columns[1:]):\n",
    "    corr = happy_df['happiness score'].corr(happy_df[column])\n",
    "    sns.regplot(happy_df, x = \"happiness score\", y = column, color = tab_20_colors[i], ax = ax[j//2, j%2])\n",
    "    ax[j//2, j%2].set_title(\"Correlation = {:.4f}\".format(corr))\n",
    "    i += 1 \n",
    "fig.tight_layout()\n",
    "fig.subplots_adjust(hspace = 0.3)\n",
    "fig.show()"
   ]
  },
  {
   "cell_type": "code",
   "execution_count": null,
   "id": "5cee9ac2",
   "metadata": {},
   "outputs": [],
   "source": [
    "fig = plt.figure(figsize = (12,7))\n",
    "sns.scatterplot(happy_df, x = \"logged gdp per capita\", y = \"healthy life expectancy\", hue = \"social support\", s = 150)\n",
    "plt.xlabel(\"GDP per capita\", size = 15)\n",
    "plt.ylabel(\"Healthy Life Expectancy\", size = 15)   \n",
    "plt.title(\"Relationship between GDP per Capita, Healthy Life Expectancy, and Social Support\", size = 20)\n",
    "plt.show()"
   ]
  },
  {
   "cell_type": "code",
   "execution_count": null,
   "id": "0f899884",
   "metadata": {},
   "outputs": [],
   "source": [
    "#Count of Countries by Region\n",
    "fig = plt.figure(figsize = (12,6))\n",
    "sns.countplot(happy_df, y = 'regional indicator', palette = 'tab20')\n",
    "plt.ylabel(\"Regions\")\n",
    "plt.xlabel(\"Counts\")\n",
    "plt.title(\"Count of Countries by Region\", size = 20)\n",
    "plt.show()"
   ]
  },
  {
   "cell_type": "code",
   "execution_count": null,
   "id": "d7d2f7c8",
   "metadata": {},
   "outputs": [],
   "source": [
    "#Boxplot\n",
    "fig = plt.figure(figsize = (10,7))\n",
    "sns.boxplot(happy_df, y = 'regional indicator', x = \"happiness score\", palette = 'tab20')\n",
    "plt.title(\"Happiness Score by region\", size = 20)"
   ]
  },
  {
   "cell_type": "code",
   "execution_count": null,
   "id": "11d7dd2e",
   "metadata": {},
   "outputs": [],
   "source": [
    "region_wise = happy_df.groupby(\"regional indicator\")[numerical_columns].mean().reset_index()\n",
    "fig, ax = plt.subplots(3, 2, figsize = (12,12))\n",
    "for i, column in enumerate(numerical_columns[1:]):\n",
    "    region_wise.sort_values(column, ascending = False, inplace = True)\n",
    "    sns.barplot(region_wise, x = column, y = 'regional indicator', palette = 'tab20', ax = ax[i//2, i%2])\n",
    "fig.tight_layout()\n",
    "fig.subplots_adjust(hspace = 0.3)\n",
    "fig.show()#A column chart was created to analyze the top 10 happiest and least happy countries.\n",
    "top_10_happy_country = happy_df.sort_values('happiness score', ascending = False)\n",
    "bottom_10_happy_country = happy_df.sort_values('happiness score', ascending = True)\n",
    "\n",
    "fig, ax = plt.subplots(2, 1, figsize = (12,8))\n",
    "\n",
    "sns.barplot(top_10_happy_country.iloc[:10], y = 'happiness score', x = 'country name', palette = 'tab20', ax = ax[0])\n",
    "ax[0].set_title(\"Top 10 happiest countries\")\n",
    "\n",
    "\n",
    "\n",
    "sns.barplot(bottom_10_happy_country.iloc[:10], y = 'happiness score', x = 'country name', palette = 'tab20', ax = ax[1])\n",
    "ax[1].set_title(\"Top 10 least happy countries\")\n",
    "\n",
    "fig.tight_layout()\n",
    "fig.show()"
   ]
  },
  {
   "cell_type": "code",
   "execution_count": null,
   "id": "016b67d5",
   "metadata": {},
   "outputs": [],
   "source": [
    "happy_df_time_line = pd.read_csv(\"whr_200522.csv\")\n",
    "happy_df_time_line.sort_values('year', inplace = True)"
   ]
  },
  {
   "cell_type": "code",
   "execution_count": null,
   "id": "5f4f2d13",
   "metadata": {},
   "outputs": [],
   "source": [
    "px.choropleth(happy_df_time_line, locations=\"Iso alpha\", color=\"Happiness score\", animation_frame=\"year\" ,hover_name=\"Country name\", range_color=[0,8], color_continuous_scale=px.colors.diverging.RdBu, width = 950, height = 600, title = \"Global Happiness Scores: A Country-by-Country Analysis\")\n"
   ]
  }
 ],
 "metadata": {
  "kernelspec": {
   "display_name": "Python 3 (ipykernel)",
   "language": "python",
   "name": "python3"
  },
  "language_info": {
   "codemirror_mode": {
    "name": "ipython",
    "version": 3
   },
   "file_extension": ".py",
   "mimetype": "text/x-python",
   "name": "python",
   "nbconvert_exporter": "python",
   "pygments_lexer": "ipython3",
   "version": "3.10.9"
  }
 },
 "nbformat": 4,
 "nbformat_minor": 5
}
