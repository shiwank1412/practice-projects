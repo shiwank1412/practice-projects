{
 "cells": [
  {
   "cell_type": "code",
   "execution_count": null,
   "id": "fec6201d",
   "metadata": {},
   "outputs": [],
   "source": [
    "\n",
    "import pandas as pd \n",
    " # read and wrangle dataframes\n",
    "\n",
    "\n",
    "import matplotlib.pyplot as plt\n",
    " # visualization\n",
    "\n",
    "import seaborn as sns \n",
    "# statistical visualizations and aesthetics\n",
    "\n",
    "from sklearn.base import TransformerMixin \n",
    "# To create new classes for transformations\n",
    "\n",
    "from sklearn.preprocessing import (FunctionTransformer, StandardScaler) \n",
    "# preprocessing \n",
    "\n",
    "from sklearn.decomposition import PCA \n",
    "# dimensionality reduction\n",
    "\n",
    "from sklearn.discriminant_analysis import LinearDiscriminantAnalysis as LDA\n",
    "from scipy.stats import boxcox \n",
    "# data transform\n",
    "\n",
    "from sklearn.model_selection import (train_test_split, KFold , StratifiedKFold, \n",
    "                                     cross_val_score, GridSearchCV, \n",
    "                                     learning_curve, validation_curve) \n",
    "from sklearn.metrics import accuracy_score\n",
    "from sklearn.neighbors import KNeighborsClassifier\n",
    "from sklearn.tree import DecisionTreeClassifier\n",
    "from sklearn.linear_model import LogisticRegression\n",
    "from sklearn.svm import SVC\n",
    "# model selection modules\n",
    "\n",
    "from sklearn.pipeline import Pipeline\n",
    " # streaming pipelines\n",
    "\n",
    "from sklearn.base import BaseEstimator, TransformerMixin \n",
    "# To create a box-cox transformation class\n",
    "\n",
    "from collections import Counter\n",
    "import warnings\n"
   ]
  },
  {
   "cell_type": "code",
   "execution_count": null,
   "id": "c9598921",
   "metadata": {},
   "outputs": [],
   "source": [
    "url = 'https://archive.ics.uci.edu/ml/machine-learning-databases/glass/glass.data'\n",
    "data = pd.read_csv(url, header=None)\n",
    "data.head()"
   ]
  },
  {
   "cell_type": "code",
   "execution_count": null,
   "id": "682caabf",
   "metadata": {},
   "outputs": [],
   "source": [
    "#Calculating number of null Values Belonging to each Column\n",
    "\n",
    "data.isnull().sum()"
   ]
  },
  {
   "cell_type": "code",
   "execution_count": null,
   "id": "abee315c",
   "metadata": {},
   "outputs": [],
   "source": [
    "#Shape of Data\n",
    "\n",
    "data.shape"
   ]
  },
  {
   "cell_type": "code",
   "execution_count": null,
   "id": "8ded2cb5",
   "metadata": {},
   "outputs": [],
   "source": [
    "data[10].unique()"
   ]
  },
  {
   "cell_type": "code",
   "execution_count": null,
   "id": "6ddd4b0a",
   "metadata": {},
   "outputs": [],
   "source": [
    "# Checking Data type of Columns\n",
    "\n",
    "data.dtypes"
   ]
  },
  {
   "cell_type": "code",
   "execution_count": null,
   "id": "26c3c875",
   "metadata": {},
   "outputs": [],
   "source": [
    "#Counting Number of Values Belonging to each class\n",
    "\n",
    "data[10].value_counts()\n",
    "\n",
    "\n",
    "\n",
    "sns.countplot(x=10, data=data)"
   ]
  },
  {
   "cell_type": "code",
   "execution_count": null,
   "id": "a1676a2e",
   "metadata": {},
   "outputs": [],
   "source": [
    "names = ['Id','RI','Na','Mg','Al','Si','K','Ca','Ba','Fe','glass_type']\n",
    "data.columns = names\n",
    "data.head()"
   ]
  },
  {
   "cell_type": "code",
   "execution_count": null,
   "id": "3bad461c",
   "metadata": {},
   "outputs": [],
   "source": [
    "data = data.drop('Id',1)"
   ]
  },
  {
   "cell_type": "code",
   "execution_count": null,
   "id": "2b9a0b45",
   "metadata": {},
   "outputs": [],
   "source": [
    "data.head(3)"
   ]
  },
  {
   "cell_type": "code",
   "execution_count": null,
   "id": "164fa7c8",
   "metadata": {},
   "outputs": [],
   "source": [
    "data.describe()"
   ]
  },
  {
   "cell_type": "code",
   "execution_count": null,
   "id": "e7665fcd",
   "metadata": {},
   "outputs": [],
   "source": [
    "# Seprating Class labels and Features\n",
    "\n",
    "features = ['RI','Na','Mg','Al','Si','K','Ca','Ba','Fe']\n",
    "label = ['glass_type']\n",
    "\n",
    "X = data[features]\n",
    "\n",
    "y = data[label]"
   ]
  },
  {
   "cell_type": "code",
   "execution_count": null,
   "id": "2585205d",
   "metadata": {},
   "outputs": [],
   "source": [
    "x2 = X.values\n",
    "\n",
    "from matplotlib import pyplot as plt\n",
    "import seaborn as sns\n",
    "for i in range(1,9):\n",
    "        sns.distplot(x2[i])\n",
    "        plt.xlabel(features[i])\n",
    "        plt.show()"
   ]
  },
  {
   "cell_type": "code",
   "execution_count": null,
   "id": "33392805",
   "metadata": {},
   "outputs": [],
   "source": [
    "#Trying to gain more Insights about the data\n",
    "\n",
    "\n",
    "for feat in features:\n",
    "    skew = data[feat].skew()\n",
    "    sns.distplot(data[feat], kde= False, label='Skew = %.3f' %(skew), bins=30)\n",
    "    plt.legend(loc='best')\n",
    "    plt.show()"
   ]
  },
  {
   "cell_type": "code",
   "execution_count": null,
   "id": "8f03319d",
   "metadata": {},
   "outputs": [],
   "source": [
    "x2 = pd.DataFrame(X)\n",
    "\n",
    "plt.figure(figsize=(8,8))\n",
    "sns.pairplot(data=x2)\n",
    "plt.show()\n",
    "     "
   ]
  },
  {
   "cell_type": "code",
   "execution_count": null,
   "id": "9587cee9",
   "metadata": {},
   "outputs": [],
   "source": [
    "coreleation= X.corr()\n",
    "plt.figure(figsize=(15,15))\n",
    "sns.heatmap(coreleation,cbar=True,square=True,annot=True,fmt='.1f',annot_kws={'size': 15},xticklabels=features,yticklabels=features,alpha=0.7,cmap= 'coolwarm')\n",
    "plt.show()"
   ]
  },
  {
   "cell_type": "code",
   "execution_count": null,
   "id": "d613773d",
   "metadata": {},
   "outputs": [],
   "source": [
    "# Detect observations with more than one outlier\n",
    "\n",
    "def outlier_hunt(data):\n",
    "    \"\"\"\n",
    "    Takes a dataframe df of features and returns a list of the indices\n",
    "    corresponding to the observations containing more than 2 outliers. \n",
    "    \"\"\"\n",
    "    outlier_indices = []\n",
    "    \n",
    "    \n",
    "    for col in data.columns.tolist():\n",
    "       \n",
    "        Q1 = np.percentile(data[col], 25)\n",
    "        \n",
    "       \n",
    "        Q3 = np.percentile(data[col],75)\n",
    "        \n",
    "        \n",
    "        IQR = Q3 - Q1\n",
    "        \n",
    "        \n",
    "        outlier_step = 1.5 * IQR\n",
    "        \n",
    "        \n",
    "        outlier_list_col = data[(data[col] < Q1 - outlier_step) | (data[col] > Q3 + outlier_step )].index\n",
    "        \n",
    "        \n",
    "        outlier_indices.extend(outlier_list_col)\n",
    "        \n",
    "   \n",
    "    outlier_indices = Counter(outlier_indices)        \n",
    "    multiple_outliers = list( k for k, v in outlier_indices.items() if v > 2 )\n",
    "    \n",
    "    return multiple_outliers   \n",
    "\n",
    "print('The dataset contains %d observations with more than 2 outliers' %(len(outlier_hunt(data[features]))))   \n",
    "     "
   ]
  },
  {
   "cell_type": "code",
   "execution_count": null,
   "id": "c492651f",
   "metadata": {},
   "outputs": [],
   "source": [
    "#Information about data in hand \n",
    "\n",
    "data.info()"
   ]
  },
  {
   "cell_type": "code",
   "execution_count": null,
   "id": "a6973b48",
   "metadata": {},
   "outputs": [],
   "source": [
    "outlier_indices = outlier_hunt(data[features])\n",
    "df = data.drop(outlier_indices).reset_index(drop=True)\n",
    "\n",
    "print(data.shape)"
   ]
  },
  {
   "cell_type": "code",
   "execution_count": null,
   "id": "bdf6fadf",
   "metadata": {},
   "outputs": [],
   "source": [
    "## normalizing/Scalling the data in [0,1] Range \n",
    "\n",
    "from sklearn.preprocessing import MinMaxScaler\n",
    "scaler = MinMaxScaler()"
   ]
  },
  {
   "cell_type": "code",
   "execution_count": null,
   "id": "0127fb41",
   "metadata": {},
   "outputs": [],
   "source": [
    "X.head(2)"
   ]
  },
  {
   "cell_type": "code",
   "execution_count": null,
   "id": "189ddbab",
   "metadata": {},
   "outputs": [],
   "source": [
    "y.head(2)"
   ]
  },
  {
   "cell_type": "code",
   "execution_count": null,
   "id": "219e04e4",
   "metadata": {},
   "outputs": [],
   "source": [
    "from sklearn import preprocessing\n",
    "X=preprocessing.scale(X)"
   ]
  },
  {
   "cell_type": "code",
   "execution_count": null,
   "id": "108525e3",
   "metadata": {},
   "outputs": [],
   "source": [
    "x2 = X\n",
    "\n",
    "\n",
    "for i in range(1,9):\n",
    "        sns.distplot(x2[i])\n",
    "        plt.xlabel(features[i])\n",
    "        plt.show()"
   ]
  },
  {
   "cell_type": "code",
   "execution_count": null,
   "id": "d935a103",
   "metadata": {},
   "outputs": [],
   "source": [
    "X_train, X_test, y_train, y_test = train_test_split(X, y, test_size=0.25, random_state=0,stratify=y)\n",
    "\n",
    "y_train = y_train.values.ravel()\n",
    "y_test = y_test.values.ravel()\n",
    "\n",
    "print('Shape of X_train = ' + str(X_train.shape))\n",
    "print('Shape of X_test = ' + str(X_test.shape))\n",
    "print('Shape of y_train = ' + str(y_train.shape))\n",
    "print('Shape of y_test = ' + str(y_test.shape))"
   ]
  }
 ],
 "metadata": {
  "kernelspec": {
   "display_name": "Python 3 (ipykernel)",
   "language": "python",
   "name": "python3"
  },
  "language_info": {
   "codemirror_mode": {
    "name": "ipython",
    "version": 3
   },
   "file_extension": ".py",
   "mimetype": "text/x-python",
   "name": "python",
   "nbconvert_exporter": "python",
   "pygments_lexer": "ipython3",
   "version": "3.10.9"
  }
 },
 "nbformat": 4,
 "nbformat_minor": 5
}
