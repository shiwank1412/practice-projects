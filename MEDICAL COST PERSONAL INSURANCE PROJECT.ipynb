{
 "cells": [
  {
   "cell_type": "code",
   "execution_count": 5,
   "id": "f830fc97",
   "metadata": {},
   "outputs": [],
   "source": [
    "import numpy as np\n",
    "import pandas as pd\n",
    "import matplotlib.pyplot as plt\n",
    "import seaborn as sns\n",
    "\n",
    "%matplotlib inline"
   ]
  },
  {
   "cell_type": "code",
   "execution_count": null,
   "id": "620fcd11",
   "metadata": {},
   "outputs": [],
   "source": [
    "data = pd.read_csv('./insurance.csv')\n",
    "data.head()"
   ]
  },
  {
   "cell_type": "code",
   "execution_count": null,
   "id": "43e5ea5a",
   "metadata": {},
   "outputs": [],
   "source": [
    "data.info()"
   ]
  },
  {
   "cell_type": "code",
   "execution_count": null,
   "id": "64ed723e",
   "metadata": {},
   "outputs": [],
   "source": [
    "data['region'].value_counts().sort_values()"
   ]
  },
  {
   "cell_type": "code",
   "execution_count": null,
   "id": "ad5f1507",
   "metadata": {},
   "outputs": [],
   "source": [
    "data['children'].value_counts().sort_values()"
   ]
  },
  {
   "cell_type": "markdown",
   "id": "fad00cd4",
   "metadata": {},
   "source": [
    "# Converting Categorical Features to Numerical"
   ]
  },
  {
   "cell_type": "code",
   "execution_count": null,
   "id": "e1750f57",
   "metadata": {},
   "outputs": [],
   "source": [
    "clean_data = {'sex': {'male' : 0 , 'female' : 1} ,\n",
    "                 'smoker': {'no': 0 , 'yes' : 1},\n",
    "                   'region' : {'northwest':0, 'northeast':1,'southeast':2,'southwest':3}\n",
    "               }\n",
    "data_copy = data.copy()\n",
    "data_copy.replace(clean_data, inplace=True)"
   ]
  },
  {
   "cell_type": "code",
   "execution_count": null,
   "id": "d15ed0f3",
   "metadata": {},
   "outputs": [],
   "source": [
    "data_copy.describe()"
   ]
  },
  {
   "cell_type": "code",
   "execution_count": null,
   "id": "f2bc2c19",
   "metadata": {},
   "outputs": [],
   "source": [
    "corr = data_copy.corr()\n",
    "fig, ax = plt.subplots(figsize=(10,8))\n",
    "sns.heatmap(corr,cmap='BuPu',annot=True,fmt=\".2f\",ax=ax)\n",
    "plt.title(\"Dependencies of Medical Charges\")\n",
    "plt.savefig('./sampleImages/Cor')\n",
    "plt.show()"
   ]
  },
  {
   "cell_type": "markdown",
   "id": "5a6f8e8f",
   "metadata": {},
   "source": [
    "Smoker, BMI and Age are most important factor that determnines - Charges"
   ]
  },
  {
   "cell_type": "code",
   "execution_count": null,
   "id": "a6d1bba3",
   "metadata": {},
   "outputs": [],
   "source": [
    "print(data['sex'].value_counts().sort_values()) \n",
    "print(data['smoker'].value_counts().sort_values())\n",
    "print(data['region'].value_counts().sort_values())"
   ]
  },
  {
   "cell_type": "markdown",
   "id": "681fbacc",
   "metadata": {},
   "source": [
    "# Now we are confirmed that there are no other values in above pre-preocessed column, We can proceed with EDA"
   ]
  },
  {
   "cell_type": "code",
   "execution_count": null,
   "id": "a47f39b4",
   "metadata": {},
   "outputs": [],
   "source": [
    "plt.figure(figsize=(12,9))\n",
    "plt.title('Age vs Charge')\n",
    "sns.barplot(x='age',y='charges',data=data_copy,palette='husl')\n",
    "plt.savefig('./sampleImages/AgevsCharges')"
   ]
  },
  {
   "cell_type": "code",
   "execution_count": null,
   "id": "963a9cf3",
   "metadata": {},
   "outputs": [],
   "source": [
    "plt.figure(figsize=(10,7))\n",
    "plt.title('Region vs Charge')\n",
    "sns.barplot(x='region',y='charges',data=data_copy,palette='Set3')"
   ]
  },
  {
   "cell_type": "code",
   "execution_count": null,
   "id": "3f0f532f",
   "metadata": {},
   "outputs": [],
   "source": [
    "plt.figure(figsize=(7,5))\n",
    "sns.scatterplot(x='bmi',y='charges',hue='sex',data=data_copy,palette='Reds')\n",
    "plt.title('BMI VS Charge')"
   ]
  },
  {
   "cell_type": "code",
   "execution_count": null,
   "id": "3e939317",
   "metadata": {},
   "outputs": [],
   "source": [
    "plt.figure(figsize=(10,7))\n",
    "plt.title('Smoker vs Charge')\n",
    "sns.barplot(x='smoker',y='charges',data=data_copy,palette='Blues',hue='se"
   ]
  },
  {
   "cell_type": "code",
   "execution_count": null,
   "id": "fc8c164a",
   "metadata": {},
   "outputs": [],
   "source": [
    "plt.figure(figsize=(10,7))\n",
    "plt.title('Sex vs Charges')\n",
    "sns.barplot(x='sex',y='charges',data=data_copy,palette='Set1')"
   ]
  },
  {
   "cell_type": "markdown",
   "id": "8bdfa24d",
   "metadata": {},
   "source": [
    "Plotting Skew and Kurtosis"
   ]
  },
  {
   "cell_type": "code",
   "execution_count": null,
   "id": "3be2546c",
   "metadata": {},
   "outputs": [],
   "source": [
    "print('Printing Skewness and Kurtosis for all columns')\n",
    "print()\n",
    "for col in list(data_copy.columns):\n",
    "    print('{0} : Skewness {1:.3f} and  Kurtosis {2:.3f}'.format(col,data_copy[col].skew(),data_copy[col].kurt()))"
   ]
  },
  {
   "cell_type": "code",
   "execution_count": null,
   "id": "414e8bb4",
   "metadata": {},
   "outputs": [],
   "source": [
    "plt.figure(figsize=(10,7))\n",
    "sns.distplot(data_copy['age'])\n",
    "plt.title('Plot for Age')\n",
    "plt.xlabel('Age')\n",
    "plt.ylabel('Count')"
   ]
  },
  {
   "cell_type": "code",
   "execution_count": null,
   "id": "0c1a8569",
   "metadata": {},
   "outputs": [],
   "source": [
    "plt.figure(figsize=(10,7))\n",
    "sns.distplot(data_copy['bmi'])\n",
    "plt.title('Plot for BMI')\n",
    "plt.xlabel('BMI')\n",
    "plt.ylabel('Count')"
   ]
  },
  {
   "cell_type": "code",
   "execution_count": null,
   "id": "335ccc58",
   "metadata": {},
   "outputs": [],
   "source": [
    "plt.figure(figsize=(10,7))\n",
    "sns.distplot(data_copy['charges'])\n",
    "plt.title('Plot for charges')\n",
    "plt.xlabel('charges')\n",
    "plt.ylabel('Count')"
   ]
  }
 ],
 "metadata": {
  "kernelspec": {
   "display_name": "Python 3 (ipykernel)",
   "language": "python",
   "name": "python3"
  },
  "language_info": {
   "codemirror_mode": {
    "name": "ipython",
    "version": 3
   },
   "file_extension": ".py",
   "mimetype": "text/x-python",
   "name": "python",
   "nbconvert_exporter": "python",
   "pygments_lexer": "ipython3",
   "version": "3.10.9"
  }
 },
 "nbformat": 4,
 "nbformat_minor": 5
}
