{
 "cells": [
  {
   "cell_type": "markdown",
   "id": "71860a24",
   "metadata": {},
   "source": [
    "# Importing Libraries"
   ]
  },
  {
   "cell_type": "code",
   "execution_count": 1,
   "id": "95ef770e",
   "metadata": {},
   "outputs": [],
   "source": [
    "import numpy as np\n",
    "import matplotlib.pyplot as plt  \n",
    "import pandas as pd\n",
    "import seaborn as sns\n",
    "\n",
    "from warnings import filterwarnings\n",
    "filterwarnings(action='ignore')"
   ]
  },
  {
   "cell_type": "markdown",
   "id": "362a0d00",
   "metadata": {},
   "source": [
    "# Loading Dataset"
   ]
  },
  {
   "cell_type": "code",
   "execution_count": null,
   "id": "6406fa55",
   "metadata": {},
   "outputs": [],
   "source": [
    "wine = pd.read_csv(\"winequality-red.csv\")\n",
    "print(\"Successfully Imported Data!\")\n",
    "wine.head()"
   ]
  },
  {
   "cell_type": "code",
   "execution_count": null,
   "id": "0e847fa0",
   "metadata": {},
   "outputs": [],
   "source": [
    "print(wine.shape)"
   ]
  },
  {
   "cell_type": "markdown",
   "id": "c8332e11",
   "metadata": {},
   "source": [
    "# Description"
   ]
  },
  {
   "cell_type": "code",
   "execution_count": null,
   "id": "3bd34298",
   "metadata": {},
   "outputs": [],
   "source": [
    "wine.describe(include='all')"
   ]
  },
  {
   "cell_type": "markdown",
   "id": "67267def",
   "metadata": {},
   "source": [
    "# Finding Null Values"
   ]
  },
  {
   "cell_type": "code",
   "execution_count": null,
   "id": "bd745e42",
   "metadata": {},
   "outputs": [],
   "source": [
    "wine.corr()"
   ]
  },
  {
   "cell_type": "code",
   "execution_count": null,
   "id": "9669f2d1",
   "metadata": {},
   "outputs": [],
   "source": [
    "wine.groupby('quality').mean()"
   ]
  },
  {
   "cell_type": "markdown",
   "id": "393e31be",
   "metadata": {},
   "source": [
    "# Data Analysis"
   ]
  },
  {
   "cell_type": "markdown",
   "id": "0cb2a387",
   "metadata": {},
   "source": [
    "Countplot:"
   ]
  },
  {
   "cell_type": "code",
   "execution_count": null,
   "id": "5e19130a",
   "metadata": {},
   "outputs": [],
   "source": [
    "sns.countplot(wine['quality'])\n",
    "plt.show()"
   ]
  },
  {
   "cell_type": "code",
   "execution_count": null,
   "id": "131c9a94",
   "metadata": {},
   "outputs": [],
   "source": [
    "sns.countplot(wine['pH'])\n",
    "plt.show()"
   ]
  },
  {
   "cell_type": "code",
   "execution_count": null,
   "id": "fe7e7f22",
   "metadata": {},
   "outputs": [],
   "source": [
    "sns.countplot(wine['alcohol'])\n",
    "plt.show()"
   ]
  },
  {
   "cell_type": "code",
   "execution_count": null,
   "id": "042a4196",
   "metadata": {},
   "outputs": [],
   "source": [
    "sns.countplot(wine['fixed acidity'])\n",
    "plt.show()"
   ]
  },
  {
   "cell_type": "code",
   "execution_count": null,
   "id": "e6130ed7",
   "metadata": {},
   "outputs": [],
   "source": [
    "sns.countplot(wine['volatile acidity'])\n",
    "plt.show()"
   ]
  },
  {
   "cell_type": "code",
   "execution_count": null,
   "id": "934845c8",
   "metadata": {},
   "outputs": [],
   "source": [
    "sns.countplot(wine['citric acid'])\n",
    "plt.show()"
   ]
  },
  {
   "cell_type": "code",
   "execution_count": null,
   "id": "560ae918",
   "metadata": {},
   "outputs": [],
   "source": [
    "sns.countplot(wine['density'])\n",
    "plt.show()"
   ]
  },
  {
   "cell_type": "markdown",
   "id": "dc9936fb",
   "metadata": {},
   "source": [
    "# KDE plot:"
   ]
  },
  {
   "cell_type": "code",
   "execution_count": null,
   "id": "32ea1063",
   "metadata": {},
   "outputs": [],
   "source": [
    "sns.kdeplot(wine.query('quality > 2').quality)"
   ]
  },
  {
   "cell_type": "markdown",
   "id": "79bead49",
   "metadata": {},
   "source": [
    "# Distplot:"
   ]
  },
  {
   "cell_type": "code",
   "execution_count": null,
   "id": "f65d5b7c",
   "metadata": {},
   "outputs": [],
   "source": [
    "sns.distplot(wine['alcohol'])"
   ]
  },
  {
   "cell_type": "code",
   "execution_count": null,
   "id": "0426c512",
   "metadata": {},
   "outputs": [],
   "source": [
    "wine.plot(kind ='box',subplots = True, layout =(4,4),sharex = False)"
   ]
  },
  {
   "cell_type": "code",
   "execution_count": null,
   "id": "25f37841",
   "metadata": {},
   "outputs": [],
   "source": [
    "wine.plot(kind ='density',subplots = True, layout =(4,4),sharex = False)"
   ]
  },
  {
   "cell_type": "markdown",
   "id": "3412b211",
   "metadata": {},
   "source": [
    "# Histogram"
   ]
  },
  {
   "cell_type": "code",
   "execution_count": null,
   "id": "6d3a5c61",
   "metadata": {},
   "outputs": [],
   "source": [
    "wine.hist(figsize=(10,10),bins=50)\n",
    "plt.show()"
   ]
  },
  {
   "cell_type": "markdown",
   "id": "9db58a7b",
   "metadata": {},
   "source": [
    "# Heatmap for expressing correlation"
   ]
  },
  {
   "cell_type": "code",
   "execution_count": null,
   "id": "e33110df",
   "metadata": {},
   "outputs": [],
   "source": [
    "corr = wine.corr()\n",
    "sns.heatmap(corr,annot=True)"
   ]
  },
  {
   "cell_type": "markdown",
   "id": "72776efc",
   "metadata": {},
   "source": [
    "# Feature Selection"
   ]
  },
  {
   "cell_type": "code",
   "execution_count": null,
   "id": "abec443f",
   "metadata": {},
   "outputs": [],
   "source": [
    "# Create Classification version of target variable\n",
    "wine['goodquality'] = [1 if x >= 7 else 0 for x in wine['quality']]# Separate feature variables and target variable\n",
    "X = wine.drop(['quality','goodquality'], axis = 1)\n",
    "Y = wine['goodquality']"
   ]
  },
  {
   "cell_type": "code",
   "execution_count": null,
   "id": "04872da2",
   "metadata": {},
   "outputs": [],
   "source": [
    "# See proportion of good vs bad wines\n",
    "wine['goodquality'].value_counts()"
   ]
  },
  {
   "cell_type": "code",
   "execution_count": null,
   "id": "0098ea24",
   "metadata": {},
   "outputs": [],
   "source": [
    "X"
   ]
  },
  {
   "cell_type": "code",
   "execution_count": null,
   "id": "bad1917b",
   "metadata": {},
   "outputs": [],
   "source": [
    "print(Y)"
   ]
  }
 ],
 "metadata": {
  "kernelspec": {
   "display_name": "Python 3 (ipykernel)",
   "language": "python",
   "name": "python3"
  },
  "language_info": {
   "codemirror_mode": {
    "name": "ipython",
    "version": 3
   },
   "file_extension": ".py",
   "mimetype": "text/x-python",
   "name": "python",
   "nbconvert_exporter": "python",
   "pygments_lexer": "ipython3",
   "version": "3.10.9"
  }
 },
 "nbformat": 4,
 "nbformat_minor": 5
}
